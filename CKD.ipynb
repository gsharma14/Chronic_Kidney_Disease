{
 "cells": [
  {
   "cell_type": "markdown",
   "metadata": {},
   "source": [
    "# Chronic Kidney Disease - Identifying risk factors and potential CKD subtypes"
   ]
  },
  {
   "cell_type": "markdown",
   "metadata": {},
   "source": [
    "Chronic kidney disease, also called chronic kidney failure, involves a gradual loss of kidney function. Your kidneys filter wastes and excess fluids from your blood, which are then removed in your urine. Advanced chronic kidney disease can cause dangerous levels of fluid, electrolytes and wastes to build up in your body.For this project, Chronic Kidney Disease dataset in UCI Machine learning repository has been explored, which includes 24 attributes excluding the target label class and health parameters of 400 patients.\n",
    "\n"
   ]
  },
  {
   "cell_type": "markdown",
   "metadata": {},
   "source": [
    "## Getting to know the Data"
   ]
  },
  {
   "cell_type": "code",
   "execution_count": 1,
   "metadata": {},
   "outputs": [
    {
     "data": {
      "text/html": [
       "<div>\n",
       "<style scoped>\n",
       "    .dataframe tbody tr th:only-of-type {\n",
       "        vertical-align: middle;\n",
       "    }\n",
       "\n",
       "    .dataframe tbody tr th {\n",
       "        vertical-align: top;\n",
       "    }\n",
       "\n",
       "    .dataframe thead th {\n",
       "        text-align: right;\n",
       "    }\n",
       "</style>\n",
       "<table border=\"1\" class=\"dataframe\">\n",
       "  <thead>\n",
       "    <tr style=\"text-align: right;\">\n",
       "      <th></th>\n",
       "      <th>age</th>\n",
       "      <th>bp</th>\n",
       "      <th>sg</th>\n",
       "      <th>al</th>\n",
       "      <th>su</th>\n",
       "      <th>rbc</th>\n",
       "      <th>pc</th>\n",
       "      <th>pcc</th>\n",
       "      <th>ba</th>\n",
       "      <th>bgr</th>\n",
       "      <th>...</th>\n",
       "      <th>pcv</th>\n",
       "      <th>wbcc</th>\n",
       "      <th>rbcc</th>\n",
       "      <th>htn</th>\n",
       "      <th>dm</th>\n",
       "      <th>cad</th>\n",
       "      <th>appet</th>\n",
       "      <th>pe</th>\n",
       "      <th>ane</th>\n",
       "      <th>class</th>\n",
       "    </tr>\n",
       "  </thead>\n",
       "  <tbody>\n",
       "    <tr>\n",
       "      <th>0</th>\n",
       "      <td>48.0</td>\n",
       "      <td>80.0</td>\n",
       "      <td>1.020</td>\n",
       "      <td>1.0</td>\n",
       "      <td>0.0</td>\n",
       "      <td>NaN</td>\n",
       "      <td>normal</td>\n",
       "      <td>notpresent</td>\n",
       "      <td>notpresent</td>\n",
       "      <td>121.0</td>\n",
       "      <td>...</td>\n",
       "      <td>44.0</td>\n",
       "      <td>7800.0</td>\n",
       "      <td>5.2</td>\n",
       "      <td>yes</td>\n",
       "      <td>yes</td>\n",
       "      <td>no</td>\n",
       "      <td>good</td>\n",
       "      <td>no</td>\n",
       "      <td>no</td>\n",
       "      <td>ckd</td>\n",
       "    </tr>\n",
       "    <tr>\n",
       "      <th>1</th>\n",
       "      <td>7.0</td>\n",
       "      <td>50.0</td>\n",
       "      <td>1.020</td>\n",
       "      <td>4.0</td>\n",
       "      <td>0.0</td>\n",
       "      <td>NaN</td>\n",
       "      <td>normal</td>\n",
       "      <td>notpresent</td>\n",
       "      <td>notpresent</td>\n",
       "      <td>NaN</td>\n",
       "      <td>...</td>\n",
       "      <td>38.0</td>\n",
       "      <td>6000.0</td>\n",
       "      <td>NaN</td>\n",
       "      <td>no</td>\n",
       "      <td>no</td>\n",
       "      <td>no</td>\n",
       "      <td>good</td>\n",
       "      <td>no</td>\n",
       "      <td>no</td>\n",
       "      <td>ckd</td>\n",
       "    </tr>\n",
       "    <tr>\n",
       "      <th>2</th>\n",
       "      <td>62.0</td>\n",
       "      <td>80.0</td>\n",
       "      <td>1.010</td>\n",
       "      <td>2.0</td>\n",
       "      <td>3.0</td>\n",
       "      <td>normal</td>\n",
       "      <td>normal</td>\n",
       "      <td>notpresent</td>\n",
       "      <td>notpresent</td>\n",
       "      <td>423.0</td>\n",
       "      <td>...</td>\n",
       "      <td>31.0</td>\n",
       "      <td>7500.0</td>\n",
       "      <td>NaN</td>\n",
       "      <td>no</td>\n",
       "      <td>yes</td>\n",
       "      <td>no</td>\n",
       "      <td>poor</td>\n",
       "      <td>no</td>\n",
       "      <td>yes</td>\n",
       "      <td>ckd</td>\n",
       "    </tr>\n",
       "    <tr>\n",
       "      <th>3</th>\n",
       "      <td>48.0</td>\n",
       "      <td>70.0</td>\n",
       "      <td>1.005</td>\n",
       "      <td>4.0</td>\n",
       "      <td>0.0</td>\n",
       "      <td>normal</td>\n",
       "      <td>abnormal</td>\n",
       "      <td>present</td>\n",
       "      <td>notpresent</td>\n",
       "      <td>117.0</td>\n",
       "      <td>...</td>\n",
       "      <td>32.0</td>\n",
       "      <td>6700.0</td>\n",
       "      <td>3.9</td>\n",
       "      <td>yes</td>\n",
       "      <td>no</td>\n",
       "      <td>no</td>\n",
       "      <td>poor</td>\n",
       "      <td>yes</td>\n",
       "      <td>yes</td>\n",
       "      <td>ckd</td>\n",
       "    </tr>\n",
       "    <tr>\n",
       "      <th>4</th>\n",
       "      <td>51.0</td>\n",
       "      <td>80.0</td>\n",
       "      <td>1.010</td>\n",
       "      <td>2.0</td>\n",
       "      <td>0.0</td>\n",
       "      <td>normal</td>\n",
       "      <td>normal</td>\n",
       "      <td>notpresent</td>\n",
       "      <td>notpresent</td>\n",
       "      <td>106.0</td>\n",
       "      <td>...</td>\n",
       "      <td>35.0</td>\n",
       "      <td>7300.0</td>\n",
       "      <td>4.6</td>\n",
       "      <td>no</td>\n",
       "      <td>no</td>\n",
       "      <td>no</td>\n",
       "      <td>good</td>\n",
       "      <td>no</td>\n",
       "      <td>no</td>\n",
       "      <td>ckd</td>\n",
       "    </tr>\n",
       "  </tbody>\n",
       "</table>\n",
       "<p>5 rows × 25 columns</p>\n",
       "</div>"
      ],
      "text/plain": [
       "    age    bp     sg   al   su     rbc        pc         pcc          ba  \\\n",
       "0  48.0  80.0  1.020  1.0  0.0     NaN    normal  notpresent  notpresent   \n",
       "1   7.0  50.0  1.020  4.0  0.0     NaN    normal  notpresent  notpresent   \n",
       "2  62.0  80.0  1.010  2.0  3.0  normal    normal  notpresent  notpresent   \n",
       "3  48.0  70.0  1.005  4.0  0.0  normal  abnormal     present  notpresent   \n",
       "4  51.0  80.0  1.010  2.0  0.0  normal    normal  notpresent  notpresent   \n",
       "\n",
       "     bgr  ...   pcv    wbcc  rbcc  htn   dm  cad  appet   pe  ane class  \n",
       "0  121.0  ...  44.0  7800.0   5.2  yes  yes   no   good   no   no   ckd  \n",
       "1    NaN  ...  38.0  6000.0   NaN   no   no   no   good   no   no   ckd  \n",
       "2  423.0  ...  31.0  7500.0   NaN   no  yes   no   poor   no  yes   ckd  \n",
       "3  117.0  ...  32.0  6700.0   3.9  yes   no   no   poor  yes  yes   ckd  \n",
       "4  106.0  ...  35.0  7300.0   4.6   no   no   no   good   no   no   ckd  \n",
       "\n",
       "[5 rows x 25 columns]"
      ]
     },
     "metadata": {},
     "output_type": "display_data"
    },
    {
     "name": "stdout",
     "output_type": "stream",
     "text": [
      " \n",
      "Attribute list is ['age' 'bp' 'sg' 'al' 'su' 'rbc' 'pc' 'pcc' 'ba' 'bgr' 'bu' 'sc' 'sod'\n",
      " 'pot' 'hemo' 'pcv' 'wbcc' 'rbcc' 'htn' 'dm' 'cad' 'appet' 'pe' 'ane'\n",
      " 'class']\n",
      " \n",
      " \n",
      "Number of people detected with chronic kidney disease: 250\n",
      "Number of people not detected with chronic kidney diesease: 150\n"
     ]
    },
    {
     "data": {
      "image/png": "[encoded data removed]",
      "text/plain": [
       "<Figure size 432x288 with 1 Axes>"
      ]
     },
     "metadata": {
      "needs_background": "light"
     },
     "output_type": "display_data"
    }
   ],
   "source": [
    "import pandas as pd\n",
    "import numpy as np\n",
    "from IPython.display import display\n",
    "from scipy.stats import mode\n",
    "import matplotlib.pyplot as plt\n",
    "import seaborn as sns\n",
    "\n",
    "#used Weka to convert .arff to .csv\n",
    "\n",
    "data = pd.read_csv('/Users/gopalika14/Desktop/chronic_kidney_disease.csv',sep=',', na_values=['?'])\n",
    "display(data.head())\n",
    "print (\" \")\n",
    "print (\"Attribute list is {}\".format(data.columns.values))\n",
    "\n",
    "print (\" \")\n",
    "#No of people with chronic kidney disease\n",
    "num_ckd = len(data[data['class']=='ckd'])\n",
    "\n",
    "#No of people without chronic kidney disease\n",
    "num_notckd = len(data[data['class']=='notckd'])\n",
    "\n",
    "#Visualising the class\n",
    "ax=sns.countplot(x=\"class\", data=data)\n",
    "for p in ax.patches:\n",
    "    ax.annotate(\"%.f\" % p.get_height(), xy=(p.get_x()+p.get_width()/2, p.get_height()),\n",
    "            xytext=(0, 5), textcoords='offset points', ha=\"center\", va=\"center\");\n",
    "\n",
    "print(\" \")\n",
    "print (\"Number of people detected with chronic kidney disease: {}\".format(num_ckd))\n",
    "print (\"Number of people not detected with chronic kidney diesease: {}\".format(num_notckd))\n",
    "\n"
   ]
  },
  {
   "cell_type": "code",
   "execution_count": 2,
   "metadata": {},
   "outputs": [
    {
     "data": {
      "text/html": [
       "<div>\n",
       "<style scoped>\n",
       "    .dataframe tbody tr th:only-of-type {\n",
       "        vertical-align: middle;\n",
       "    }\n",
       "\n",
       "    .dataframe tbody tr th {\n",
       "        vertical-align: top;\n",
       "    }\n",
       "\n",
       "    .dataframe thead th {\n",
       "        text-align: right;\n",
       "    }\n",
       "</style>\n",
       "<table border=\"1\" class=\"dataframe\">\n",
       "  <thead>\n",
       "    <tr style=\"text-align: right;\">\n",
       "      <th></th>\n",
       "      <th>age</th>\n",
       "      <th>bp</th>\n",
       "      <th>sg</th>\n",
       "      <th>al</th>\n",
       "      <th>su</th>\n",
       "      <th>bgr</th>\n",
       "      <th>bu</th>\n",
       "      <th>sc</th>\n",
       "      <th>sod</th>\n",
       "      <th>pot</th>\n",
       "      <th>hemo</th>\n",
       "      <th>pcv</th>\n",
       "      <th>wbcc</th>\n",
       "      <th>rbcc</th>\n",
       "    </tr>\n",
       "  </thead>\n",
       "  <tbody>\n",
       "    <tr>\n",
       "      <th>count</th>\n",
       "      <td>391.000000</td>\n",
       "      <td>388.000000</td>\n",
       "      <td>353.000000</td>\n",
       "      <td>354.000000</td>\n",
       "      <td>351.000000</td>\n",
       "      <td>356.000000</td>\n",
       "      <td>381.000000</td>\n",
       "      <td>383.000000</td>\n",
       "      <td>313.000000</td>\n",
       "      <td>312.000000</td>\n",
       "      <td>348.000000</td>\n",
       "      <td>329.000000</td>\n",
       "      <td>294.000000</td>\n",
       "      <td>269.000000</td>\n",
       "    </tr>\n",
       "    <tr>\n",
       "      <th>mean</th>\n",
       "      <td>51.483376</td>\n",
       "      <td>76.469072</td>\n",
       "      <td>1.017408</td>\n",
       "      <td>1.016949</td>\n",
       "      <td>0.450142</td>\n",
       "      <td>148.036517</td>\n",
       "      <td>57.425722</td>\n",
       "      <td>3.072454</td>\n",
       "      <td>137.528754</td>\n",
       "      <td>4.627244</td>\n",
       "      <td>12.526437</td>\n",
       "      <td>38.884498</td>\n",
       "      <td>8406.122449</td>\n",
       "      <td>4.707435</td>\n",
       "    </tr>\n",
       "    <tr>\n",
       "      <th>std</th>\n",
       "      <td>17.169714</td>\n",
       "      <td>13.683637</td>\n",
       "      <td>0.005717</td>\n",
       "      <td>1.352679</td>\n",
       "      <td>1.099191</td>\n",
       "      <td>79.281714</td>\n",
       "      <td>50.503006</td>\n",
       "      <td>5.741126</td>\n",
       "      <td>10.408752</td>\n",
       "      <td>3.193904</td>\n",
       "      <td>2.912587</td>\n",
       "      <td>8.990105</td>\n",
       "      <td>2944.474190</td>\n",
       "      <td>1.025323</td>\n",
       "    </tr>\n",
       "    <tr>\n",
       "      <th>min</th>\n",
       "      <td>2.000000</td>\n",
       "      <td>50.000000</td>\n",
       "      <td>1.005000</td>\n",
       "      <td>0.000000</td>\n",
       "      <td>0.000000</td>\n",
       "      <td>22.000000</td>\n",
       "      <td>1.500000</td>\n",
       "      <td>0.400000</td>\n",
       "      <td>4.500000</td>\n",
       "      <td>2.500000</td>\n",
       "      <td>3.100000</td>\n",
       "      <td>9.000000</td>\n",
       "      <td>2200.000000</td>\n",
       "      <td>2.100000</td>\n",
       "    </tr>\n",
       "    <tr>\n",
       "      <th>25%</th>\n",
       "      <td>42.000000</td>\n",
       "      <td>70.000000</td>\n",
       "      <td>1.010000</td>\n",
       "      <td>0.000000</td>\n",
       "      <td>0.000000</td>\n",
       "      <td>99.000000</td>\n",
       "      <td>27.000000</td>\n",
       "      <td>0.900000</td>\n",
       "      <td>135.000000</td>\n",
       "      <td>3.800000</td>\n",
       "      <td>10.300000</td>\n",
       "      <td>32.000000</td>\n",
       "      <td>6500.000000</td>\n",
       "      <td>3.900000</td>\n",
       "    </tr>\n",
       "    <tr>\n",
       "      <th>50%</th>\n",
       "      <td>55.000000</td>\n",
       "      <td>80.000000</td>\n",
       "      <td>1.020000</td>\n",
       "      <td>0.000000</td>\n",
       "      <td>0.000000</td>\n",
       "      <td>121.000000</td>\n",
       "      <td>42.000000</td>\n",
       "      <td>1.300000</td>\n",
       "      <td>138.000000</td>\n",
       "      <td>4.400000</td>\n",
       "      <td>12.650000</td>\n",
       "      <td>40.000000</td>\n",
       "      <td>8000.000000</td>\n",
       "      <td>4.800000</td>\n",
       "    </tr>\n",
       "    <tr>\n",
       "      <th>75%</th>\n",
       "      <td>64.500000</td>\n",
       "      <td>80.000000</td>\n",
       "      <td>1.020000</td>\n",
       "      <td>2.000000</td>\n",
       "      <td>0.000000</td>\n",
       "      <td>163.000000</td>\n",
       "      <td>66.000000</td>\n",
       "      <td>2.800000</td>\n",
       "      <td>142.000000</td>\n",
       "      <td>4.900000</td>\n",
       "      <td>15.000000</td>\n",
       "      <td>45.000000</td>\n",
       "      <td>9800.000000</td>\n",
       "      <td>5.400000</td>\n",
       "    </tr>\n",
       "    <tr>\n",
       "      <th>max</th>\n",
       "      <td>90.000000</td>\n",
       "      <td>180.000000</td>\n",
       "      <td>1.025000</td>\n",
       "      <td>5.000000</td>\n",
       "      <td>5.000000</td>\n",
       "      <td>490.000000</td>\n",
       "      <td>391.000000</td>\n",
       "      <td>76.000000</td>\n",
       "      <td>163.000000</td>\n",
       "      <td>47.000000</td>\n",
       "      <td>17.800000</td>\n",
       "      <td>54.000000</td>\n",
       "      <td>26400.000000</td>\n",
       "      <td>8.000000</td>\n",
       "    </tr>\n",
       "  </tbody>\n",
       "</table>\n",
       "</div>"
      ],
      "text/plain": [
       "              age          bp          sg          al          su         bgr  \\\n",
       "count  391.000000  388.000000  353.000000  354.000000  351.000000  356.000000   \n",
       "mean    51.483376   76.469072    1.017408    1.016949    0.450142  148.036517   \n",
       "std     17.169714   13.683637    0.005717    1.352679    1.099191   79.281714   \n",
       "min      2.000000   50.000000    1.005000    0.000000    0.000000   22.000000   \n",
       "25%     42.000000   70.000000    1.010000    0.000000    0.000000   99.000000   \n",
       "50%     55.000000   80.000000    1.020000    0.000000    0.000000  121.000000   \n",
       "75%     64.500000   80.000000    1.020000    2.000000    0.000000  163.000000   \n",
       "max     90.000000  180.000000    1.025000    5.000000    5.000000  490.000000   \n",
       "\n",
       "               bu          sc         sod         pot        hemo         pcv  \\\n",
       "count  381.000000  383.000000  313.000000  312.000000  348.000000  329.000000   \n",
       "mean    57.425722    3.072454  137.528754    4.627244   12.526437   38.884498   \n",
       "std     50.503006    5.741126   10.408752    3.193904    2.912587    8.990105   \n",
       "min      1.500000    0.400000    4.500000    2.500000    3.100000    9.000000   \n",
       "25%     27.000000    0.900000  135.000000    3.800000   10.300000   32.000000   \n",
       "50%     42.000000    1.300000  138.000000    4.400000   12.650000   40.000000   \n",
       "75%     66.000000    2.800000  142.000000    4.900000   15.000000   45.000000   \n",
       "max    391.000000   76.000000  163.000000   47.000000   17.800000   54.000000   \n",
       "\n",
       "               wbcc        rbcc  \n",
       "count    294.000000  269.000000  \n",
       "mean    8406.122449    4.707435  \n",
       "std     2944.474190    1.025323  \n",
       "min     2200.000000    2.100000  \n",
       "25%     6500.000000    3.900000  \n",
       "50%     8000.000000    4.800000  \n",
       "75%     9800.000000    5.400000  \n",
       "max    26400.000000    8.000000  "
      ]
     },
     "metadata": {},
     "output_type": "display_data"
    }
   ],
   "source": [
    "#getting the distribution of the numerical attibutes of the dataset\n",
    "display(data.describe())"
   ]
  },
  {
   "cell_type": "code",
   "execution_count": 3,
   "metadata": {},
   "outputs": [
    {
     "data": {
      "image/png": "[encoded data removed]",
      "text/plain": [
       "<Figure size 2160x1440 with 2 Axes>"
      ]
     },
     "metadata": {
      "needs_background": "light"
     },
     "output_type": "display_data"
    }
   ],
   "source": [
    "#plotting the heatmap to establish correlation between attributes \n",
    "plt.figure(figsize=(30,20))\n",
    "ax = sns.heatmap(data.corr(), annot=True)\n",
    "ax.set_title('Feature Correlation',fontsize=10)\n",
    "ax.yaxis.set_tick_params(labelsize= 16)\n",
    "ax.xaxis.set_tick_params(labelsize= 16)\n",
    "plt.show()"
   ]
  },
  {
   "cell_type": "markdown",
   "metadata": {},
   "source": [
    "#### OBSERVATION 1: We have 24 feature attributes with 11 numerical attributes and 14 nominal and one target label.The number of people detected with chronic kidney disease(ckd) is 250 and with no-ckd is 150. In the correlation plot, hemo,pcv and rbcc shows high positive correlation with each other followed by su,bgr which are also in the high end of positive correlation."
   ]
  },
  {
   "cell_type": "markdown",
   "metadata": {},
   "source": [
    "## Pre-Processing the Data"
   ]
  },
  {
   "cell_type": "code",
   "execution_count": 4,
   "metadata": {},
   "outputs": [
    {
     "data": {
      "text/plain": [
       "age        9\n",
       "bp        12\n",
       "sg        47\n",
       "al        46\n",
       "su        49\n",
       "rbc      152\n",
       "pc        65\n",
       "pcc        4\n",
       "ba         4\n",
       "bgr       44\n",
       "bu        19\n",
       "sc        17\n",
       "sod       87\n",
       "pot       88\n",
       "hemo      52\n",
       "pcv       71\n",
       "wbcc     106\n",
       "rbcc     131\n",
       "htn        2\n",
       "dm         2\n",
       "cad        2\n",
       "appet      1\n",
       "pe         1\n",
       "ane        1\n",
       "class      0\n",
       "dtype: int64"
      ]
     },
     "execution_count": 4,
     "metadata": {},
     "output_type": "execute_result"
    }
   ],
   "source": [
    "# checking null values within the dataset\n",
    "data.isnull().sum()"
   ]
  },
  {
   "cell_type": "code",
   "execution_count": 5,
   "metadata": {},
   "outputs": [
    {
     "data": {
      "text/html": [
       "<div>\n",
       "<style scoped>\n",
       "    .dataframe tbody tr th:only-of-type {\n",
       "        vertical-align: middle;\n",
       "    }\n",
       "\n",
       "    .dataframe tbody tr th {\n",
       "        vertical-align: top;\n",
       "    }\n",
       "\n",
       "    .dataframe thead th {\n",
       "        text-align: right;\n",
       "    }\n",
       "</style>\n",
       "<table border=\"1\" class=\"dataframe\">\n",
       "  <thead>\n",
       "    <tr style=\"text-align: right;\">\n",
       "      <th></th>\n",
       "      <th>age</th>\n",
       "      <th>bp</th>\n",
       "      <th>sg</th>\n",
       "      <th>al</th>\n",
       "      <th>su</th>\n",
       "      <th>rbc</th>\n",
       "      <th>pc</th>\n",
       "      <th>pcc</th>\n",
       "      <th>ba</th>\n",
       "      <th>bgr</th>\n",
       "      <th>...</th>\n",
       "      <th>pcv</th>\n",
       "      <th>wbcc</th>\n",
       "      <th>rbcc</th>\n",
       "      <th>htn</th>\n",
       "      <th>dm</th>\n",
       "      <th>cad</th>\n",
       "      <th>appet</th>\n",
       "      <th>pe</th>\n",
       "      <th>ane</th>\n",
       "      <th>class</th>\n",
       "    </tr>\n",
       "  </thead>\n",
       "  <tbody>\n",
       "    <tr>\n",
       "      <th>0</th>\n",
       "      <td>48.0</td>\n",
       "      <td>80.0</td>\n",
       "      <td>1.020</td>\n",
       "      <td>1.0</td>\n",
       "      <td>0.0</td>\n",
       "      <td>normal</td>\n",
       "      <td>normal</td>\n",
       "      <td>notpresent</td>\n",
       "      <td>notpresent</td>\n",
       "      <td>121.0</td>\n",
       "      <td>...</td>\n",
       "      <td>44.0</td>\n",
       "      <td>7800.0</td>\n",
       "      <td>5.2</td>\n",
       "      <td>yes</td>\n",
       "      <td>yes</td>\n",
       "      <td>no</td>\n",
       "      <td>good</td>\n",
       "      <td>no</td>\n",
       "      <td>no</td>\n",
       "      <td>ckd</td>\n",
       "    </tr>\n",
       "    <tr>\n",
       "      <th>1</th>\n",
       "      <td>7.0</td>\n",
       "      <td>50.0</td>\n",
       "      <td>1.020</td>\n",
       "      <td>4.0</td>\n",
       "      <td>0.0</td>\n",
       "      <td>normal</td>\n",
       "      <td>normal</td>\n",
       "      <td>notpresent</td>\n",
       "      <td>notpresent</td>\n",
       "      <td>121.0</td>\n",
       "      <td>...</td>\n",
       "      <td>38.0</td>\n",
       "      <td>6000.0</td>\n",
       "      <td>4.8</td>\n",
       "      <td>no</td>\n",
       "      <td>no</td>\n",
       "      <td>no</td>\n",
       "      <td>good</td>\n",
       "      <td>no</td>\n",
       "      <td>no</td>\n",
       "      <td>ckd</td>\n",
       "    </tr>\n",
       "    <tr>\n",
       "      <th>2</th>\n",
       "      <td>62.0</td>\n",
       "      <td>80.0</td>\n",
       "      <td>1.010</td>\n",
       "      <td>2.0</td>\n",
       "      <td>3.0</td>\n",
       "      <td>normal</td>\n",
       "      <td>normal</td>\n",
       "      <td>notpresent</td>\n",
       "      <td>notpresent</td>\n",
       "      <td>423.0</td>\n",
       "      <td>...</td>\n",
       "      <td>31.0</td>\n",
       "      <td>7500.0</td>\n",
       "      <td>4.8</td>\n",
       "      <td>no</td>\n",
       "      <td>yes</td>\n",
       "      <td>no</td>\n",
       "      <td>poor</td>\n",
       "      <td>no</td>\n",
       "      <td>yes</td>\n",
       "      <td>ckd</td>\n",
       "    </tr>\n",
       "    <tr>\n",
       "      <th>3</th>\n",
       "      <td>48.0</td>\n",
       "      <td>70.0</td>\n",
       "      <td>1.005</td>\n",
       "      <td>4.0</td>\n",
       "      <td>0.0</td>\n",
       "      <td>normal</td>\n",
       "      <td>abnormal</td>\n",
       "      <td>present</td>\n",
       "      <td>notpresent</td>\n",
       "      <td>117.0</td>\n",
       "      <td>...</td>\n",
       "      <td>32.0</td>\n",
       "      <td>6700.0</td>\n",
       "      <td>3.9</td>\n",
       "      <td>yes</td>\n",
       "      <td>no</td>\n",
       "      <td>no</td>\n",
       "      <td>poor</td>\n",
       "      <td>yes</td>\n",
       "      <td>yes</td>\n",
       "      <td>ckd</td>\n",
       "    </tr>\n",
       "    <tr>\n",
       "      <th>4</th>\n",
       "      <td>51.0</td>\n",
       "      <td>80.0</td>\n",
       "      <td>1.010</td>\n",
       "      <td>2.0</td>\n",
       "      <td>0.0</td>\n",
       "      <td>normal</td>\n",
       "      <td>normal</td>\n",
       "      <td>notpresent</td>\n",
       "      <td>notpresent</td>\n",
       "      <td>106.0</td>\n",
       "      <td>...</td>\n",
       "      <td>35.0</td>\n",
       "      <td>7300.0</td>\n",
       "      <td>4.6</td>\n",
       "      <td>no</td>\n",
       "      <td>no</td>\n",
       "      <td>no</td>\n",
       "      <td>good</td>\n",
       "      <td>no</td>\n",
       "      <td>no</td>\n",
       "      <td>ckd</td>\n",
       "    </tr>\n",
       "  </tbody>\n",
       "</table>\n",
       "<p>5 rows × 25 columns</p>\n",
       "</div>"
      ],
      "text/plain": [
       "    age    bp     sg   al   su     rbc        pc         pcc          ba  \\\n",
       "0  48.0  80.0  1.020  1.0  0.0  normal    normal  notpresent  notpresent   \n",
       "1   7.0  50.0  1.020  4.0  0.0  normal    normal  notpresent  notpresent   \n",
       "2  62.0  80.0  1.010  2.0  3.0  normal    normal  notpresent  notpresent   \n",
       "3  48.0  70.0  1.005  4.0  0.0  normal  abnormal     present  notpresent   \n",
       "4  51.0  80.0  1.010  2.0  0.0  normal    normal  notpresent  notpresent   \n",
       "\n",
       "     bgr  ...   pcv    wbcc  rbcc  htn   dm  cad  appet   pe  ane class  \n",
       "0  121.0  ...  44.0  7800.0   5.2  yes  yes   no   good   no   no   ckd  \n",
       "1  121.0  ...  38.0  6000.0   4.8   no   no   no   good   no   no   ckd  \n",
       "2  423.0  ...  31.0  7500.0   4.8   no  yes   no   poor   no  yes   ckd  \n",
       "3  117.0  ...  32.0  6700.0   3.9  yes   no   no   poor  yes  yes   ckd  \n",
       "4  106.0  ...  35.0  7300.0   4.6   no   no   no   good   no   no   ckd  \n",
       "\n",
       "[5 rows x 25 columns]"
      ]
     },
     "execution_count": 5,
     "metadata": {},
     "output_type": "execute_result"
    }
   ],
   "source": [
    "#Replacing missing values with most frequent value for nominal features and median for numerical features\n",
    "X = pd.DataFrame(data)\n",
    "fill = pd.Series([X[c].value_counts().index[0]\n",
    "        if X[c].dtype == np.dtype('O') else X[c].median() for c in X],\n",
    "        index=X.columns)\n",
    "clean_data=X.fillna(fill) \n",
    "clean_data.head()            "
   ]
  },
  {
   "cell_type": "code",
   "execution_count": 6,
   "metadata": {},
   "outputs": [
    {
     "data": {
      "text/plain": [
       "age      0\n",
       "bp       0\n",
       "sg       0\n",
       "al       0\n",
       "su       0\n",
       "rbc      0\n",
       "pc       0\n",
       "pcc      0\n",
       "ba       0\n",
       "bgr      0\n",
       "bu       0\n",
       "sc       0\n",
       "sod      0\n",
       "pot      0\n",
       "hemo     0\n",
       "pcv      0\n",
       "wbcc     0\n",
       "rbcc     0\n",
       "htn      0\n",
       "dm       0\n",
       "cad      0\n",
       "appet    0\n",
       "pe       0\n",
       "ane      0\n",
       "class    0\n",
       "dtype: int64"
      ]
     },
     "execution_count": 6,
     "metadata": {},
     "output_type": "execute_result"
    }
   ],
   "source": [
    "#checking if the null values has been replaced\n",
    "clean_data.isnull().sum()"
   ]
  },
  {
   "cell_type": "code",
   "execution_count": 7,
   "metadata": {},
   "outputs": [
    {
     "name": "stdout",
     "output_type": "stream",
     "text": [
      "age      float64\n",
      "bp       float64\n",
      "sg       float64\n",
      "al       float64\n",
      "su       float64\n",
      "rbc        int64\n",
      "pc         int64\n",
      "pcc        int64\n",
      "ba         int64\n",
      "bgr      float64\n",
      "bu       float64\n",
      "sc       float64\n",
      "sod      float64\n",
      "pot      float64\n",
      "hemo     float64\n",
      "pcv      float64\n",
      "wbcc     float64\n",
      "rbcc     float64\n",
      "htn        int64\n",
      "dm         int64\n",
      "cad        int64\n",
      "appet      int64\n",
      "pe         int64\n",
      "ane        int64\n",
      "class      int64\n",
      "dtype: object\n",
      "      age    bp     sg   al   su  rbc  pc  pcc  ba    bgr  ...   pcv    wbcc  \\\n",
      "0    48.0  80.0  1.020  1.0  0.0    1   1    0   0  121.0  ...  44.0  7800.0   \n",
      "1     7.0  50.0  1.020  4.0  0.0    1   1    0   0  121.0  ...  38.0  6000.0   \n",
      "2    62.0  80.0  1.010  2.0  3.0    1   1    0   0  423.0  ...  31.0  7500.0   \n",
      "3    48.0  70.0  1.005  4.0  0.0    1   0    1   0  117.0  ...  32.0  6700.0   \n",
      "4    51.0  80.0  1.010  2.0  0.0    1   1    0   0  106.0  ...  35.0  7300.0   \n",
      "..    ...   ...    ...  ...  ...  ...  ..  ...  ..    ...  ...   ...     ...   \n",
      "395  55.0  80.0  1.020  0.0  0.0    1   1    0   0  140.0  ...  47.0  6700.0   \n",
      "396  42.0  70.0  1.025  0.0  0.0    1   1    0   0   75.0  ...  54.0  7800.0   \n",
      "397  12.0  80.0  1.020  0.0  0.0    1   1    0   0  100.0  ...  49.0  6600.0   \n",
      "398  17.0  60.0  1.025  0.0  0.0    1   1    0   0  114.0  ...  51.0  7200.0   \n",
      "399  58.0  80.0  1.025  0.0  0.0    1   1    0   0  131.0  ...  53.0  6800.0   \n",
      "\n",
      "     rbcc  htn  dm  cad  appet  pe  ane  class  \n",
      "0     5.2    1   1    0      0   0    0      0  \n",
      "1     4.8    0   0    0      0   0    0      0  \n",
      "2     4.8    0   1    0      1   0    1      0  \n",
      "3     3.9    1   0    0      1   1    1      0  \n",
      "4     4.6    0   0    0      0   0    0      0  \n",
      "..    ...  ...  ..  ...    ...  ..  ...    ...  \n",
      "395   4.9    0   0    0      0   0    0      1  \n",
      "396   6.2    0   0    0      0   0    0      1  \n",
      "397   5.4    0   0    0      0   0    0      1  \n",
      "398   5.9    0   0    0      0   0    0      1  \n",
      "399   6.1    0   0    0      0   0    0      1  \n",
      "\n",
      "[400 rows x 25 columns]\n"
     ]
    }
   ],
   "source": [
    "#Using Label Encoder to encode nominal values\n",
    "from sklearn import preprocessing\n",
    "le = preprocessing.LabelEncoder()\n",
    "df=clean_data.copy()\n",
    "for items in df:\n",
    "    if df[items].dtype == np.dtype('O'):\n",
    "        df[items]=le.fit_transform(df[items])\n",
    "\n",
    "print(df.dtypes)\n",
    "print(df)"
   ]
  },
  {
   "cell_type": "code",
   "execution_count": 8,
   "metadata": {},
   "outputs": [],
   "source": [
    "#Let's Scale the features for uniformity\n",
    "from sklearn.preprocessing import StandardScaler, RobustScaler\n",
    "target_class = df['class']\n",
    "features = df.drop('class', axis = 1)\n",
    "data_robust = pd.DataFrame(RobustScaler().fit_transform(features), columns=features.columns)"
   ]
  },
  {
   "cell_type": "markdown",
   "metadata": {},
   "source": [
    "### In order to identify the risk factors for the CKD I plan to run a classification model so I can identify the risks through feature importance as it helps us identify which features contributed heavily towards the classification of CKD, hence it identifies the risk factors."
   ]
  },
  {
   "cell_type": "code",
   "execution_count": 9,
   "metadata": {},
   "outputs": [],
   "source": [
    "# For the purpose of classification I chose Random Forest Model, this can be altered to any preferred model of choice.\n",
    "from sklearn.ensemble import RandomForestClassifier\n",
    "from sklearn.model_selection import train_test_split\n",
    "from sklearn.metrics import accuracy_score,precision_score\n",
    "from sklearn.metrics import confusion_matrix\n",
    "X_train, X_test, y_train, y_test = train_test_split(data_robust,target_class, test_size=0.25, random_state=42)"
   ]
  },
  {
   "cell_type": "code",
   "execution_count": 10,
   "metadata": {},
   "outputs": [
    {
     "name": "stdout",
     "output_type": "stream",
     "text": [
      "Train 1.0\n",
      "Test 1.0\n",
      "[0.01739574 0.01271946 0.10902609 0.06932707 0.00407866 0.0032529\n",
      " 0.00576341 0.         0.00051381 0.03252614 0.02337785 0.10800746\n",
      " 0.02638491 0.01037286 0.17516335 0.17914063 0.00699248 0.09540907\n",
      " 0.04950276 0.05043695 0.         0.01204831 0.00573878 0.00282134]\n",
      "1.0\n",
      "[0.17914062789340268, 0.17516334518884194, 0.1090260869049017, 0.10800745884682195, 0.09540906863981682, 0.0693270657887762, 0.050436951761606764, 0.04950275834145594, 0.03252614282840496, 0.02638490709215323, 0.023377850908826884, 0.017395735883451714, 0.012719464289388584, 0.01204831119580269, 0.01037285520055244, 0.006992478296211203, 0.005763407937262816, 0.005738777689063098, 0.004078656067084273, 0.0032528969461811936, 0.0028213411456122217, 0.0005138111543807947, 0.0, 0.0]\n"
     ]
    }
   ],
   "source": [
    "clf=RandomForestClassifier()\n",
    "clf.fit(X_train, y_train.values.ravel())\n",
    "\n",
    "score = clf.score(X_train, y_train)\n",
    "print('Train',score) \n",
    "\n",
    "score = clf.score(X_test,y_test)\n",
    "print('Test',score) \n",
    "\n",
    "importances = clf.feature_importances_\n",
    "print(importances)\n",
    "print(sum(importances))\n",
    "sort = sorted(importances, reverse=True)\n",
    "print(sort)"
   ]
  },
  {
   "cell_type": "code",
   "execution_count": 12,
   "metadata": {},
   "outputs": [
    {
     "name": "stdout",
     "output_type": "stream",
     "text": [
      "Precision score:\n",
      "1.0\n",
      "\n",
      "Accuracy score:\n",
      "1.0\n"
     ]
    }
   ],
   "source": [
    "#Testing\n",
    "y_pred = clf.predict(X_test)\n",
    "print(\"Precision score:\")\n",
    "print(round(precision_score(y_test, y_pred, average='binary'), 3))\n",
    "print(\"\\nAccuracy score:\")\n",
    "print(round(accuracy_score(y_test, y_pred), 4))\n",
    "#cm = confusion_matrix(y_test, y_pred)\n",
    "#print(cm)"
   ]
  },
  {
   "cell_type": "markdown",
   "metadata": {},
   "source": [
    "## Identifying Risk factors"
   ]
  },
  {
   "cell_type": "code",
   "execution_count": 13,
   "metadata": {},
   "outputs": [
    {
     "data": {
      "image/png": "[encoded data removed]",
      "text/plain": [
       "<Figure size 432x288 with 1 Axes>"
      ]
     },
     "metadata": {
      "needs_background": "light"
     },
     "output_type": "display_data"
    }
   ],
   "source": [
    "# The following feature importance plot shows the features that are heavily inclined towards the classification of CKD, hence it identifies the risk factors. \n",
    "rf_fi = pd.DataFrame({'Features':data_robust.columns,'Importance':np.round(clf.feature_importances_,3)}).sort_values('Importance',ascending=True)\n",
    "rf_fi.plot(x='Features',y='Importance',kind='barh');\n"
   ]
  },
  {
   "cell_type": "code",
   "execution_count": 14,
   "metadata": {},
   "outputs": [],
   "source": [
    "#calculating feature importance value\n",
    "std = np.std([tree.feature_importances_ for tree in clf.estimators_],axis=0)\n",
    "indices = np.argsort(importances)[::-1]"
   ]
  },
  {
   "cell_type": "code",
   "execution_count": 15,
   "metadata": {},
   "outputs": [
    {
     "name": "stdout",
     "output_type": "stream",
     "text": [
      "Index(['age', 'bp', 'sg', 'al', 'su', 'rbc', 'pc', 'pcc', 'ba', 'bgr', 'bu',\n",
      "       'sc', 'sod', 'pot', 'hemo', 'pcv', 'wbcc', 'rbcc', 'htn', 'dm', 'cad',\n",
      "       'appet', 'pe', 'ane'],\n",
      "      dtype='object')\n"
     ]
    }
   ],
   "source": [
    "feature_names = data_robust.columns\n",
    "print(feature_names)"
   ]
  },
  {
   "cell_type": "code",
   "execution_count": 16,
   "metadata": {},
   "outputs": [
    {
     "name": "stdout",
     "output_type": "stream",
     "text": [
      "Feature ranking:\n",
      "1. feature pcv (0.179141)\n",
      "2. feature hemo (0.175163)\n",
      "3. feature sg (0.109026)\n",
      "4. feature sc (0.108007)\n",
      "5. feature rbcc (0.095409)\n",
      "6. feature al (0.069327)\n",
      "7. feature dm (0.050437)\n",
      "8. feature htn (0.049503)\n",
      "9. feature bgr (0.032526)\n",
      "10. feature sod (0.026385)\n",
      "11. feature bu (0.023378)\n",
      "12. feature age (0.017396)\n",
      "13. feature bp (0.012719)\n",
      "14. feature appet (0.012048)\n",
      "15. feature pot (0.010373)\n",
      "16. feature wbcc (0.006992)\n",
      "17. feature pc (0.005763)\n",
      "18. feature pe (0.005739)\n",
      "19. feature su (0.004079)\n",
      "20. feature rbc (0.003253)\n",
      "21. feature ane (0.002821)\n",
      "22. feature ba (0.000514)\n",
      "23. feature pcc (0.000000)\n",
      "24. feature cad (0.000000)\n"
     ]
    }
   ],
   "source": [
    "# Feature Ranking represents the value assigned to each feature hence demonstrating their importance towards CKD classification\n",
    "print(\"Feature ranking:\")\n",
    "for f in range(X_train.shape[1]):\n",
    "    print(\"%d. feature %s (%f)\" % (f + 1, feature_names[indices[f]], importances[indices[f]]))"
   ]
  },
  {
   "cell_type": "code",
   "execution_count": 17,
   "metadata": {},
   "outputs": [
    {
     "data": {
      "text/plain": [
       "<matplotlib.axes._subplots.AxesSubplot at 0x126822760>"
      ]
     },
     "execution_count": 17,
     "metadata": {},
     "output_type": "execute_result"
    },
    {
     "data": {
      "image/png": "[encoded data removed]",
      "text/plain": [
       "<Figure size 1080x576 with 1 Axes>"
      ]
     },
     "metadata": {
      "needs_background": "light"
     },
     "output_type": "display_data"
    }
   ],
   "source": [
    "#Plotting the rankings in a pretty plot\n",
    "plt.subplots(figsize=(15,8))\n",
    "sns.barplot(importances, feature_names, palette='inferno')\n"
   ]
  },
  {
   "cell_type": "markdown",
   "metadata": {},
   "source": [
    "### Observation 2: The main risk factors are identified by plotting the feature importance graph with respect to the classification algorithm as it suggest which features highly influenced the CK disease in a patient. \n",
    "\n",
    "### The top risk factors are, haemoglobin,packed cell volume,serum cretinine,red blood cells count and sugar as they have high feature importance value."
   ]
  },
  {
   "cell_type": "markdown",
   "metadata": {},
   "source": [
    "## Identifying Potential CKD subtypes"
   ]
  },
  {
   "cell_type": "code",
   "execution_count": 19,
   "metadata": {},
   "outputs": [
    {
     "name": "stdout",
     "output_type": "stream",
     "text": [
      "Shape of X: (400, 24) \n",
      " Shape of y: (400,)\n"
     ]
    }
   ],
   "source": [
    "X = data_robust\n",
    "y = target_class\n",
    "print('Shape of X:', X.shape, '\\n', 'Shape of y:', y.shape)\n",
    "#X_train, X_test, y_train, y_test = train_test_split(X,y, test_size=0.25, random_state=42)"
   ]
  },
  {
   "cell_type": "code",
   "execution_count": 22,
   "metadata": {},
   "outputs": [
    {
     "name": "stdout",
     "output_type": "stream",
     "text": [
      "[[ 3.16699789e-02  6.54031995e-02 -6.43964020e-02  4.46478357e-02\n",
      "   6.41274105e-02 -9.70008384e-03 -2.83952365e-02  6.96365513e-03\n",
      "   4.42662996e-03  6.21078199e-02  2.43032531e-01  5.76355136e-01\n",
      "  -1.45839321e-01  7.28455303e-01 -7.26189090e-02 -8.48116403e-02\n",
      "  -7.26536860e-03 -1.41313806e-01  3.80611096e-02  3.16578465e-02\n",
      "   1.24640741e-02  1.57174002e-02  2.13509081e-02  2.60120747e-02]\n",
      " [-2.85603253e-02 -5.49005653e-02  7.14393746e-02 -3.25996437e-02\n",
      "   1.78728920e-03  1.81518539e-02  1.23324613e-02 -1.23287413e-02\n",
      "  -6.78597653e-03 -4.84037221e-02 -1.26481545e-01 -6.21355857e-01\n",
      "   3.19084704e-01  6.67061659e-01  7.77501872e-02  8.38494488e-02\n",
      "  -2.96197200e-02  1.37037310e-01 -4.58790858e-02 -3.49778892e-02\n",
      "  -1.86517074e-02 -2.84718822e-02 -2.04754092e-02 -2.17414629e-02]\n",
      " [-1.07384251e-01 -2.32467152e-01  2.99638925e-01 -1.61596327e-01\n",
      "  -2.94186239e-01  3.64304638e-02  7.84127082e-02 -5.17982837e-02\n",
      "  -2.50267416e-02 -5.48869968e-01 -1.16055929e-01  3.40624735e-01\n",
      "  -1.00367340e-02  3.85166303e-02  1.88608070e-01  2.20623656e-01\n",
      "  -1.52376427e-01  3.72703704e-01 -1.20863232e-01 -1.32871917e-01\n",
      "  -3.38773890e-02 -6.61296656e-02 -5.15211091e-02 -4.52866940e-02]\n",
      " [ 2.10275921e-02 -1.32930234e-01  1.08963806e-01 -6.45869206e-02\n",
      "   3.53881679e-01  2.25604945e-02  4.31268551e-02 -2.00409610e-02\n",
      "  -1.90519665e-02  6.31472479e-01 -2.90185134e-01  1.86429602e-01\n",
      "  -7.27308249e-02  1.67770272e-02  1.93956183e-01  2.20352395e-01\n",
      "  -4.59370548e-02  4.59978838e-01 -4.04902133e-02  2.94252351e-02\n",
      "  -8.56472105e-04 -5.71329583e-02 -5.97728894e-02 -7.05476846e-02]\n",
      " [ 2.27886923e-02  9.37947368e-01  1.33095897e-01 -9.20330935e-02\n",
      "   3.89364949e-02 -4.25179436e-03  2.79173982e-02 -3.22900852e-02\n",
      "  -3.85776213e-03 -6.52864721e-02 -5.71126371e-02  6.39722898e-02\n",
      "   1.40994748e-01 -2.19111972e-02  3.91497125e-02  4.62580306e-02\n",
      "  -1.36001281e-01  1.84295138e-01 -2.20569776e-03 -8.49464211e-03\n",
      "  -1.18470796e-02 -7.29913154e-03 -4.23901883e-02  1.54150418e-03]\n",
      " [-8.28246456e-02  1.11753888e-01 -7.58142894e-02  1.71784248e-02\n",
      "  -1.09684335e-01  1.59864302e-03 -5.35546467e-03  3.36675300e-03\n",
      "  -1.87046241e-03 -5.49215759e-02 -4.09367961e-01 -2.21345101e-01\n",
      "  -8.05279002e-01  1.25126463e-01 -1.09807888e-02 -3.21169898e-02\n",
      "  -2.59354376e-01 -9.59653497e-02  9.52078450e-03  3.43780282e-03\n",
      "   6.36621082e-03 -1.55006590e-02 -2.60156169e-02 -1.10571612e-02]\n",
      " [-2.79758124e-02  1.00868757e-01 -2.91117988e-01  5.59455758e-02\n",
      "   8.56151036e-02  2.17117232e-02  5.42023309e-03  1.77732529e-02\n",
      "   1.38835287e-02 -2.22435328e-01 -4.09202604e-01  1.03097799e-01\n",
      "  -3.03770380e-02  6.05913574e-02  5.66152699e-02  2.40671381e-02\n",
      "   8.02674691e-01  7.12352945e-02 -4.87199714e-02 -3.00899007e-02\n",
      "  -2.99150453e-02 -8.36307205e-03 -7.00101373e-03 -5.69022661e-02]\n",
      " [-6.09121122e-02 -5.90741567e-02 -4.21183174e-01 -4.06540835e-02\n",
      "   5.32756001e-02 -4.23498869e-04  1.52820022e-02 -1.84563512e-02\n",
      "  -5.10344304e-03 -3.95134176e-02 -5.36251494e-01  2.31924778e-01\n",
      "   4.16849369e-01 -1.09807131e-02 -4.33186547e-03 -5.63514321e-03\n",
      "  -4.25076075e-01 -3.27233557e-01 -3.38972468e-02 -3.45990926e-02\n",
      "  -5.72433567e-03 -1.71655366e-02 -3.23325590e-02 -4.44102303e-02]\n",
      " [-1.18330044e-01  7.27942433e-03 -6.73395017e-01  2.14655689e-01\n",
      "   5.53694671e-02 -8.31966799e-02 -7.86178151e-02  4.73664696e-02\n",
      "   4.01229064e-02 -1.30618621e-01  2.92785993e-01 -6.08293192e-02\n",
      "  -5.52581575e-02 -2.35303993e-02 -4.39822614e-02 -1.12897600e-02\n",
      "  -1.99821637e-01  5.53497330e-01 -5.93586386e-02 -3.11139922e-02\n",
      "  -2.58006613e-02 -2.89468170e-02  4.41349542e-02  5.78944474e-04]\n",
      " [-9.35014545e-01  4.38120639e-02  1.43454998e-01  1.18432401e-01\n",
      "   8.95802225e-02 -4.83616634e-02 -4.93571273e-02 -1.32353892e-02\n",
      "   1.87326170e-02  1.05438943e-01  4.88631053e-02  1.67571057e-02\n",
      "   3.34518113e-02 -1.36480945e-02 -4.29630271e-02 -1.70503701e-02\n",
      "   5.27922581e-02 -1.03550630e-01 -1.50476287e-01 -1.31690158e-01\n",
      "  -4.51389788e-02 -1.06081152e-02  1.11926335e-02  5.38418819e-02]\n",
      " [ 4.69749318e-02 -4.63800448e-02  1.07783924e-01  4.43883381e-02\n",
      "   8.30875228e-01  1.50714067e-02  1.85816324e-02  1.03632880e-02\n",
      "   2.33043211e-02 -4.27357552e-01  1.03605151e-01 -5.91694989e-02\n",
      "  -9.94976487e-02 -3.75619813e-02  1.36677066e-01  1.25108872e-01\n",
      "  -1.06211183e-01 -1.57042551e-01 -2.09316895e-02  4.00434289e-02\n",
      "   5.99754682e-02 -5.49546850e-02  2.74048182e-02 -5.11080623e-02]\n",
      " [ 3.90018420e-02 -7.30420515e-02  3.09151926e-01  3.64511875e-01\n",
      "   1.22995333e-01 -8.11601878e-02 -1.22157763e-01  5.20529802e-02\n",
      "   2.66801942e-02 -1.21421302e-01 -3.09664394e-01  6.64611172e-02\n",
      "   1.00929226e-01  8.31392614e-03 -4.13304699e-01 -4.74360927e-01\n",
      "  -6.64356198e-02  3.01160510e-01  1.99336802e-01  8.43856351e-02\n",
      "   5.36626618e-02  1.01575857e-01  1.86183728e-01  1.16896970e-01]\n",
      " [-1.14194972e-01 -5.78598165e-02 -1.07534799e-01 -6.77253194e-01\n",
      "   1.59644676e-01  1.59024385e-01  3.01031159e-01 -1.56785269e-01\n",
      "  -1.20723449e-01 -3.85557117e-02  3.76437075e-02 -3.32251706e-02\n",
      "  -3.46887187e-02  2.74537010e-03 -3.22191860e-01 -3.76893218e-01\n",
      "   3.71746614e-02  1.34406102e-01 -2.06452919e-03  9.54165479e-02\n",
      "  -1.49919471e-02 -1.19872013e-01 -1.40770247e-01  1.37058836e-01]\n",
      " [-1.93560784e-01 -5.30163675e-04 -7.02784829e-02 -7.35096776e-02\n",
      "  -4.99879586e-02  8.19664348e-02  1.89151208e-01 -2.13392903e-01\n",
      "  -7.87388464e-02 -4.56372032e-02 -4.62518928e-03 -1.75778233e-03\n",
      "   1.08334335e-02  1.09301076e-02  6.95225489e-02  2.45333960e-01\n",
      "  -4.66915134e-03  2.83149037e-02  3.85343114e-01  5.19662896e-01\n",
      "  -3.28178069e-03  4.07695069e-01  4.40793243e-01 -9.05874907e-02]\n",
      " [ 8.21147826e-02 -5.09867517e-03 -1.01989895e-02 -3.23745178e-01\n",
      "   7.70815414e-02 -3.98904183e-02 -2.69790079e-01  1.17794511e-01\n",
      "   3.25467273e-02  2.11917088e-02 -2.04170519e-02 -6.70751227e-03\n",
      "  -3.70412170e-02  4.36821552e-03  6.52789432e-02 -1.09521146e-01\n",
      "  -1.44786659e-02  2.32843860e-02 -4.04643128e-01 -2.76668226e-01\n",
      "  -1.85013320e-02  6.45852786e-01  3.28141322e-01  9.12445769e-02]\n",
      " [-3.49809330e-02 -1.16840505e-02 -2.82040761e-02 -5.01509504e-02\n",
      "   3.67619348e-02  3.77340318e-01 -2.18476173e-01  3.64209585e-01\n",
      "   1.67371049e-02 -3.52355266e-02 -3.14342889e-02  8.13356470e-03\n",
      "   5.24777276e-03  4.26681126e-04 -2.49658039e-01  4.03208040e-01\n",
      "  -2.13910498e-03  1.64498596e-02  2.79386173e-01 -2.76223236e-02\n",
      "  -1.01198244e-01  1.51388071e-01 -2.58064012e-01  5.14636595e-01]\n",
      " [ 1.08170261e-01  7.95728613e-03 -1.60825131e-02  3.47061976e-01\n",
      "   3.93779112e-02  1.97653286e-01  5.82863683e-01 -3.71446852e-01\n",
      "  -7.43653164e-02  3.90540329e-02  1.06808323e-02 -8.57591958e-03\n",
      "  -2.35000173e-02 -1.15877909e-03 -4.47535643e-02  4.69026315e-02\n",
      "  -1.53840747e-02 -2.38775413e-02 -7.13060259e-02 -4.14345565e-01\n",
      "  -1.87152810e-01  2.14567399e-01  2.27496333e-02  2.79372630e-01]\n",
      " [ 2.46131116e-02 -1.78221559e-02  4.30021950e-02  1.12371110e-01\n",
      "   5.03831367e-04 -2.86018659e-01  1.72917379e-01 -4.60967171e-03\n",
      "   9.29514271e-02 -3.69562326e-02 -3.76710564e-03  1.27427958e-03\n",
      "   2.05200840e-03  7.44081453e-03 -3.29876254e-01  1.76969280e-01\n",
      "   5.63360872e-04  1.50006044e-03 -3.84408367e-01  3.84768312e-01\n",
      "  -1.39353270e-02  3.74632479e-01 -5.14915608e-01 -1.45441184e-01]\n",
      " [ 8.94416042e-02 -3.45699517e-03  6.57441672e-03 -1.31899325e-01\n",
      "   2.56341771e-02 -4.76711234e-01 -1.72787421e-01 -3.12867379e-01\n",
      "  -5.06739079e-02  8.12529470e-03 -4.08463058e-02 -5.55476370e-03\n",
      "  -2.37443379e-02  3.25106071e-03 -4.11934544e-01  4.08704464e-01\n",
      "   3.78028175e-02 -4.08177652e-02 -7.74345608e-02 -6.57906411e-02\n",
      "  -1.67874431e-01 -2.88315500e-01  3.21239596e-01  2.22117732e-01]\n",
      " [-4.64584815e-03 -2.80063223e-02 -8.28773469e-03 -5.20103688e-03\n",
      "   2.37934970e-02 -3.99384844e-01 -9.40042564e-02 -8.13329282e-02\n",
      "  -1.65391615e-01 -3.53229184e-02 -1.53530001e-02  4.32405162e-03\n",
      "   5.47874462e-03 -2.17200418e-03  4.72333626e-01 -2.44632392e-01\n",
      "  -1.86220152e-04 -5.64303818e-03  1.33916165e-01  1.97513695e-01\n",
      "  -4.48334562e-01  7.74820680e-02 -2.32184650e-01  4.40275656e-01]\n",
      " [-5.65031300e-02 -2.43524325e-02 -3.62900851e-02 -1.38045806e-01\n",
      "   4.41953266e-02 -4.02266436e-01 -8.38738853e-03 -1.38767882e-01\n",
      "   9.79367353e-03 -1.01075963e-02  1.59592858e-02 -1.30675501e-02\n",
      "  -8.08240485e-03  8.36272994e-03 -1.37630322e-02  4.88947706e-02\n",
      "   2.98198335e-02  2.78212263e-02  5.36127250e-01 -4.36358128e-01\n",
      "   3.69205526e-01  2.64296672e-01 -2.88497819e-01 -1.43188353e-01]\n",
      " [-1.16914177e-02  8.43536648e-03 -3.27587758e-02  3.13353052e-02\n",
      "  -6.15902959e-02 -1.43217639e-01  1.91724226e-01  5.70100465e-02\n",
      "   7.82583614e-02  4.39380259e-03 -3.70559026e-02  5.20234835e-03\n",
      "   1.68415109e-02  7.19430061e-03  1.81362354e-01  2.10462056e-02\n",
      "   1.91204845e-02  1.71498297e-03 -1.93565987e-01  1.73668265e-01\n",
      "   7.16081408e-01 -8.38178587e-02  9.22230194e-02  5.43975662e-01]\n",
      " [-1.06768993e-02  1.47232241e-02  9.08217474e-03 -6.19419019e-03\n",
      "   4.20700483e-03 -2.78030657e-01  3.94931492e-01  6.47807770e-01\n",
      "  -5.36867093e-01  7.51276704e-03  7.30585636e-04  6.91864512e-05\n",
      "  -6.04385313e-04  7.17828880e-03 -6.84487035e-02  5.83603532e-02\n",
      "  -2.28288429e-03 -1.56510260e-02  2.30537972e-02 -8.94188037e-02\n",
      "  -6.91597178e-02 -2.74686356e-02  1.68453321e-01 -8.65219973e-02]\n",
      " [-1.04672181e-02 -8.42345245e-03  1.25916379e-02 -1.27225440e-01\n",
      "  -1.79940625e-03 -1.94738815e-01  3.43567780e-01  2.97438525e-01\n",
      "   7.96768372e-01  1.63622595e-02 -1.27790914e-02  2.50315164e-03\n",
      "  -2.55845621e-03  8.74850112e-03  2.68636673e-02 -1.49847626e-02\n",
      "  -7.03183893e-03 -4.30252650e-03  1.33188193e-01 -4.40040189e-02\n",
      "  -2.42830179e-01 -5.07873060e-02  1.43455314e-01  2.94038364e-02]]\n",
      " \n",
      "[15.04440539  9.93707039  4.07568502  2.17867261  1.62787033  1.27133927\n",
      "  1.05070955  0.81021286  0.77696759  0.55511115  0.49966544  0.34580068\n",
      "  0.293751    0.17660705  0.12998736  0.10226149  0.09521366  0.08978325\n",
      "  0.08539336  0.07487009  0.07157665  0.05386684  0.04154774  0.03838757]\n"
     ]
    }
   ],
   "source": [
    "#Running Principal component analysis on all the features to reduce the dimensionality of the large data set, by transforming the variables into a smaller one that still contains most of the information. \n",
    "from sklearn.decomposition import PCA\n",
    "pca = PCA(n_components=24, svd_solver='randomized').fit(X)\n",
    "print(pca.components_)\n",
    "print (\" \")\n",
    "print(pca.explained_variance_)"
   ]
  },
  {
   "cell_type": "code",
   "execution_count": 23,
   "metadata": {},
   "outputs": [
    {
     "data": {
      "image/png": "[encoded data removed]",
      "text/plain": [
       "<Figure size 432x288 with 1 Axes>"
      ]
     },
     "metadata": {
      "needs_background": "light"
     },
     "output_type": "display_data"
    },
    {
     "data": {
      "image/png": "[encoded data removed]",
      "text/plain": [
       "<Figure size 432x288 with 1 Axes>"
      ]
     },
     "metadata": {
      "needs_background": "light"
     },
     "output_type": "display_data"
    },
    {
     "data": {
      "image/png": "[encoded data removed]",
      "text/plain": [
       "<Figure size 432x288 with 1 Axes>"
      ]
     },
     "metadata": {
      "needs_background": "light"
     },
     "output_type": "display_data"
    }
   ],
   "source": [
    "n_components = [5,15,24]\n",
    "for k in n_components:\n",
    "    pca = PCA(n_components= k, svd_solver='randomized').fit(X)\n",
    "    f,ax = plt.subplots()\n",
    "    plt.plot(np.cumsum(pca.explained_variance_ratio_))\n",
    "    plt.title(\"ratio of explained variance\")\n",
    "    plt.xlabel('number of components')\n",
    "    plt.ylabel('cumulative explained variance');"
   ]
  },
  {
   "cell_type": "code",
   "execution_count": 24,
   "metadata": {},
   "outputs": [
    {
     "data": {
      "text/plain": [
       "11"
      ]
     },
     "execution_count": 24,
     "metadata": {},
     "output_type": "execute_result"
    }
   ],
   "source": [
    "#checking for the number of principal components needed to retain 95% of the variance\n",
    "cumsum = np.cumsum(pca.explained_variance_ratio_)\n",
    "dimensions = np.argmax(cumsum >= 0.95) + 1\n",
    "dimensions"
   ]
  },
  {
   "cell_type": "markdown",
   "metadata": {},
   "source": [
    "In order to cluster data, we need to determine how to tell if two data points are similar. A proximity measure characterizes the similarity or dissimilarity that exists between objects.\n",
    "We can choose to determine if two points are similar. So if the value is large, the points are very similar. Or choose to determine if they are dissimilar. If the value is small, the points are similar. This is what we know as \"distance\".There are various distances that a clustering algorithm can use: Manhattan distance, Minkowski distance, Euclidean distance, among others.\n",
    "\n",
    "\n",
    "K-means typically uses Euclidean distance to determine how similar (or dissimilar) two points are.\n",
    "\n",
    "First, we need to fix the numbers of clusters to use.The Elbow method looks at how the total WSS varies with the number of clusters.  For that, we'll compute k-means for a range of different values of k. Then, we calculate the total WSS. We plot the curve WSS vs. number of clusters.  Finally, we locate the elbow or bend of the plot. This point is considered to be the appropriate number of clusters.\n",
    "\n",
    "### For our solution I am running unsupervised clustering on patient's baseline characteristics among 400 participants to identify novel CKD subgroups that best represent the data pattern."
   ]
  },
  {
   "cell_type": "code",
   "execution_count": 25,
   "metadata": {},
   "outputs": [
    {
     "data": {
      "image/png": "[encoded data removed]",
      "text/plain": [
       "<Figure size 432x288 with 1 Axes>"
      ]
     },
     "metadata": {
      "needs_background": "light"
     },
     "output_type": "display_data"
    }
   ],
   "source": [
    "from sklearn.cluster import KMeans\n",
    "wss = []\n",
    "#choosing 11 features we got through PCA analysis\n",
    "for i in range(1,11):\n",
    "    km = KMeans(n_clusters=i,init='k-means++', max_iter=300, n_init=10, random_state=0)\n",
    "    km.fit(X)\n",
    "    wss.append(km.inertia_)\n",
    "plt.plot(range(1,11),wss, c=\"#c51b7d\")\n",
    "plt.gca().spines[\"top\"].set_visible(False)\n",
    "plt.gca().spines[\"right\"].set_visible(False)\n",
    "plt.title('Elbow Method', size=14)\n",
    "plt.xlabel('Number of clusters', size=12)\n",
    "plt.ylabel('wss', size=14)\n",
    "plt.show() "
   ]
  },
  {
   "cell_type": "markdown",
   "metadata": {},
   "source": [
    "### The elbow of the plot is 5, this point is considered to be the appropriate number of clusters."
   ]
  },
  {
   "cell_type": "code",
   "execution_count": 26,
   "metadata": {},
   "outputs": [],
   "source": [
    "#running k-means on 5 clusters\n",
    "kmeans = KMeans(n_clusters=5, init='k-means++', max_iter=10, n_init=10, random_state=0)\n",
    "# Fit and predict \n",
    "label = kmeans.fit_predict(X)"
   ]
  },
  {
   "cell_type": "code",
   "execution_count": 27,
   "metadata": {},
   "outputs": [
    {
     "name": "stdout",
     "output_type": "stream",
     "text": [
      "[0 0 3 3 3 3 1 3 3 1 3 3 3 3 3 1 0 3 3 3 3 4 1 0 3 3 3 3 3 3 1 3 3 3 3 3 3\n",
      " 3 3 3 3 0 3 1 3 3 0 0 3 3 3 3 3 3 3 3 1 1 3 3 3 2 0 3 3 0 3 3 3 0 3 3 3 1\n",
      " 1 0 1 3 3 3 3 3 0 0 1 3 3 3 3 0 3 3 3 3 3 3 3 3 1 3 3 3 0 1 3 1 1 3 0 3 3\n",
      " 3 0 3 0 3 0 3 0 0 3 0 1 3 3 3 3 3 2 0 1 0 1 0 1 3 3 3 0 3 3 3 1 1 3 1 3 3\n",
      " 4 0 0 3 3 1 1 0 3 3 3 3 3 3 3 3 0 0 0 0 3 3 3 3 3 0 1 3 3 3 3 3 3 3 0 3 3\n",
      " 0 0 3 0 3 3 1 3 1 3 3 1 1 3 3 3 1 3 3 1 0 3 3 3 0 1 3 1 3 0 0 0 3 0 3 0 3\n",
      " 0 3 0 3 3 3 0 1 3 3 3 0 0 3 3 3 1 0 3 3 1 0 3 1 1 0 3 1 0 0 0 0 0 0 0 0 0\n",
      " 0 0 0 0 0 0 0 0 0 0 0 0 0 0 0 0 0 0 0 0 0 0 0 0 0 0 0 0 0 0 0 0 0 0 0 0 0\n",
      " 0 0 0 0 0 0 0 0 0 0 0 0 0 0 0 0 0 0 0 0 0 0 0 0 0 0 0 0 0 0 0 0 0 0 0 0 0\n",
      " 0 0 0 0 0 0 0 0 0 0 0 0 0 0 0 0 0 0 0 0 0 0 0 0 0 0 0 0 0 0 0 0 0 0 0 0 0\n",
      " 0 0 0 0 0 0 0 0 0 0 0 0 0 0 0 0 0 0 0 0 0 0 0 0 0 0 0 0 0 0]\n"
     ]
    }
   ],
   "source": [
    "#Labels for the kmeans cluster\n",
    "print(label)"
   ]
  },
  {
   "cell_type": "code",
   "execution_count": 28,
   "metadata": {},
   "outputs": [
    {
     "data": {
      "image/png": "[encoded data removed]",
      "text/plain": [
       "<Figure size 432x288 with 1 Axes>"
      ]
     },
     "metadata": {
      "needs_background": "light"
     },
     "output_type": "display_data"
    }
   ],
   "source": [
    "# Plotting the first two clusters to demonstrate how the clusters look\n",
    "import matplotlib.pyplot as plt\n",
    "pca_2d = pca.transform(X)\n",
    "#filter rows of original data\n",
    "filtered_label0 = pca_2d[label == 0]\n",
    "filtered_label1 = pca_2d[label == 1]\n",
    "#filtered_label2 = pca_2d[label == 2]\n",
    "#filtered_label3 = pca_2d[label == 3]\n",
    "#filtered_label4 = pca_2d[label == 4]\n",
    "\n",
    "#plotting the results\n",
    "plt.scatter(filtered_label0[:,0] , filtered_label0[:,1])\n",
    "plt.scatter(filtered_label1[:,0] , filtered_label1[:,1])\n",
    "#plt.scatter(filtered_label2[:,0] , filtered_label2[:,1])\n",
    "#plt.scatter(filtered_label3[:,0] , filtered_label3[:,1])\n",
    "#plt.scatter(filtered_label4[:,0] , filtered_label4[:,1])\n",
    "plt.show()"
   ]
  },
  {
   "cell_type": "code",
   "execution_count": 30,
   "metadata": {},
   "outputs": [
    {
     "data": {
      "image/png": "[encoded data removed]",
      "text/plain": [
       "<Figure size 432x288 with 1 Axes>"
      ]
     },
     "metadata": {
      "needs_background": "light"
     },
     "output_type": "display_data"
    }
   ],
   "source": [
    "#Getting unique labels\n",
    "u_labels = np.unique(label)\n",
    " \n",
    "#plotting all the clusters\n",
    " \n",
    "for i in u_labels:\n",
    "    plt.scatter(pca_2d[label == i , 0] , pca_2d[label == i , 1] , label = i)\n",
    "plt.legend()\n",
    "#plt.xlim(-10, 50)\n",
    "#plt.ylim(-10, 50)\n",
    "plt.show()"
   ]
  },
  {
   "cell_type": "markdown",
   "metadata": {},
   "source": [
    "### Observation 3: By running unsupervised clustering on patient's baseline characteristics among 400 participants I identified 5 novel CKD subgroups that best represent the data pattern. But cluster marked 0,1 and 3 show more probability of being subgroups due to the high count of point distribution.\n",
    "\n",
    "### Let's identify the centroids in order to find dominating features within clusters so we know what factors are dominating the subtypes of CKD"
   ]
  },
  {
   "cell_type": "code",
   "execution_count": 31,
   "metadata": {},
   "outputs": [
    {
     "name": "stdout",
     "output_type": "stream",
     "text": [
      "Features: \n",
      "['age', 'bp', 'sg', 'al', 'su', 'rbc', 'pc', 'pcc', 'ba', 'bgr', 'bu', 'sc', 'sod', 'pot', 'hemo', 'pcv', 'wbcc', 'rbcc', 'htn', 'dm', 'cad', 'appet', 'pe', 'ane']\n",
      "Centroids \n",
      "[[-4.75102787e-01 -8.14070352e-01  1.85929648e-01  1.33165829e-01\n",
      "   3.51758794e-02 -3.51758794e-02 -2.51256281e-02  1.00502513e-02\n",
      "   1.00502513e-02 -2.07773562e-01 -2.54582264e-01 -1.36573277e-01\n",
      "   4.61474037e-01 -1.18090452e-01  4.87638191e-01  4.69346734e-01\n",
      "  -1.02367508e-01  7.42043551e-01  6.03015075e-02  5.52763819e-02\n",
      "  -1.80411242e-16  5.02512563e-02  5.52763819e-02  2.01005025e-02]\n",
      " [ 1.51515152e-02  5.00000000e-01 -9.76190476e-01  9.28571429e-01\n",
      "   6.19047619e-01 -3.33333333e-01 -4.52380952e-01  1.66666667e-01\n",
      "   1.19047619e-01  4.49465500e-01  3.15039397e+00  5.16373125e+00\n",
      "  -1.18650794e+00  4.01785714e-01 -1.01460317e+00 -1.20476190e+00\n",
      "   1.31566028e-01 -1.87698413e+00  7.61904762e-01  6.66666667e-01\n",
      "   2.14285714e-01  4.04761905e-01  5.00000000e-01  5.95238095e-01]\n",
      " [ 2.04545455e-01  5.00000000e-01 -1.50000000e+00  1.25000000e+00\n",
      "   3.00000000e+00  0.00000000e+00 -1.00000000e+00  0.00000000e+00\n",
      "   0.00000000e+00  1.67346939e+00  6.80575540e+00  9.58904110e+00\n",
      "   1.66666667e+00  4.82500000e+01 -6.06666667e-01 -8.50000000e-01\n",
      "  -6.18556701e-01 -1.58333333e+00  5.00000000e-01  5.00000000e-01\n",
      "   0.00000000e+00  0.00000000e+00  5.00000000e-01  5.00000000e-01]\n",
      " [ 1.94428152e-01  2.58064516e-02 -1.13548387e+00  7.22580645e-01\n",
      "   7.67741935e-01 -1.67741935e-01 -3.22580645e-01  2.12903226e-01\n",
      "   9.67741935e-02  1.38406847e+00  4.53877930e-01  6.22713213e-01\n",
      "  -3.07526882e-01 -8.06451613e-03 -4.14279570e-01 -4.96774194e-01\n",
      "   4.26205520e-01 -6.78494624e-01  6.45161290e-01  6.19354839e-01\n",
      "   1.54838710e-01  3.48387097e-01  2.77419355e-01  1.93548387e-01]\n",
      " [ 4.31818182e-01 -5.00000000e-01  0.00000000e+00  0.00000000e+00\n",
      "   0.00000000e+00  0.00000000e+00  0.00000000e+00  0.00000000e+00\n",
      "   0.00000000e+00  5.10204082e-01  1.75539568e+00  3.32876712e+01\n",
      "  -1.11250000e+01  0.00000000e+00 -2.33333333e-01 -4.00000000e-01\n",
      "  -3.71134021e-01 -1.00000000e+00  1.00000000e+00  5.00000000e-01\n",
      "   5.00000000e-01  5.00000000e-01  0.00000000e+00  0.00000000e+00]]\n"
     ]
    }
   ],
   "source": [
    "features = X.columns.tolist()\n",
    "print(f\"Features: \\n{features}\")\n",
    "\n",
    "centroids = kmeans.cluster_centers_\n",
    "print(f\"Centroids \\n{centroids}\")"
   ]
  },
  {
   "cell_type": "code",
   "execution_count": 32,
   "metadata": {},
   "outputs": [
    {
     "name": "stdout",
     "output_type": "stream",
     "text": [
      "Sorted Feature/Dimension Indexes for Each Centroid in Descending Order: [[17 14 15 12  2  3 18 22 19 21  4 23  8  7 20  6  5 16 13 11  9 10  0  1]\n",
      " [11 10  3 18 19  4 23  1 22  9 21 13 20  7 16  8  0  5  6  2 14 12 15 17]\n",
      " [13 11 10  4  9 12  3  1 22 23 18 19  0  8  7  5 20 21 14 16 15  6  2 17]\n",
      " [ 9  4  3 18 11 19 10 16 21 22  7  0 23 20  8  1 13  5 12  6 14 15 17  2]\n",
      " [11 10 18  9 21 20 19  0 13 22  8  7  6  5  4  3  2 23 14 16 15  1 17 12]]\n",
      "\n",
      "Sorted Feature/Dimension Values for Each Centroid in Descending Order: [[ 7.42043551e-01  4.87638191e-01  4.69346734e-01  4.61474037e-01\n",
      "   1.85929648e-01  1.33165829e-01  6.03015075e-02  5.52763819e-02\n",
      "   5.52763819e-02  5.02512563e-02  3.51758794e-02  2.01005025e-02\n",
      "   1.00502513e-02  1.00502513e-02 -1.80411242e-16 -2.51256281e-02\n",
      "  -3.51758794e-02 -1.02367508e-01 -1.18090452e-01 -1.36573277e-01\n",
      "  -2.07773562e-01 -2.54582264e-01 -4.75102787e-01 -8.14070352e-01]\n",
      " [ 5.16373125e+00  3.15039397e+00  9.28571429e-01  7.61904762e-01\n",
      "   6.66666667e-01  6.19047619e-01  5.95238095e-01  5.00000000e-01\n",
      "   5.00000000e-01  4.49465500e-01  4.04761905e-01  4.01785714e-01\n",
      "   2.14285714e-01  1.66666667e-01  1.31566028e-01  1.19047619e-01\n",
      "   1.51515152e-02 -3.33333333e-01 -4.52380952e-01 -9.76190476e-01\n",
      "  -1.01460317e+00 -1.18650794e+00 -1.20476190e+00 -1.87698413e+00]\n",
      " [ 4.82500000e+01  9.58904110e+00  6.80575540e+00  3.00000000e+00\n",
      "   1.67346939e+00  1.66666667e+00  1.25000000e+00  5.00000000e-01\n",
      "   5.00000000e-01  5.00000000e-01  5.00000000e-01  5.00000000e-01\n",
      "   2.04545455e-01  0.00000000e+00  0.00000000e+00  0.00000000e+00\n",
      "   0.00000000e+00  0.00000000e+00 -6.06666667e-01 -6.18556701e-01\n",
      "  -8.50000000e-01 -1.00000000e+00 -1.50000000e+00 -1.58333333e+00]\n",
      " [ 1.38406847e+00  7.67741935e-01  7.22580645e-01  6.45161290e-01\n",
      "   6.22713213e-01  6.19354839e-01  4.53877930e-01  4.26205520e-01\n",
      "   3.48387097e-01  2.77419355e-01  2.12903226e-01  1.94428152e-01\n",
      "   1.93548387e-01  1.54838710e-01  9.67741935e-02  2.58064516e-02\n",
      "  -8.06451613e-03 -1.67741935e-01 -3.07526882e-01 -3.22580645e-01\n",
      "  -4.14279570e-01 -4.96774194e-01 -6.78494624e-01 -1.13548387e+00]\n",
      " [ 3.32876712e+01  1.75539568e+00  1.00000000e+00  5.10204082e-01\n",
      "   5.00000000e-01  5.00000000e-01  5.00000000e-01  4.31818182e-01\n",
      "   0.00000000e+00  0.00000000e+00  0.00000000e+00  0.00000000e+00\n",
      "   0.00000000e+00  0.00000000e+00  0.00000000e+00  0.00000000e+00\n",
      "   0.00000000e+00  0.00000000e+00 -2.33333333e-01 -3.71134021e-01\n",
      "  -4.00000000e-01 -5.00000000e-01 -1.00000000e+00 -1.11250000e+01]]\n"
     ]
    }
   ],
   "source": [
    "sorted_centroid_features_idx = centroids.argsort(axis=1)[:,::-1]\n",
    "print(f\"Sorted Feature/Dimension Indexes for Each Centroid in Descending Order: {sorted_centroid_features_idx}\")\n",
    "\n",
    "print()\n",
    "\n",
    "sorted_centroid_features_values = np.take_along_axis(centroids, sorted_centroid_features_idx, axis=1)\n",
    "print(f\"Sorted Feature/Dimension Values for Each Centroid in Descending Order: {sorted_centroid_features_values}\")"
   ]
  },
  {
   "cell_type": "code",
   "execution_count": 33,
   "metadata": {},
   "outputs": [
    {
     "name": "stdout",
     "output_type": "stream",
     "text": [
      "[('rbcc', 0.742043551088778), ('hemo', 0.48763819095477423), ('pcv', 0.46934673366834156), ('sod', 0.4614740368509217), ('sg', 0.18592964824119107), ('al', 0.13316582914572778), ('htn', 0.06030150753768865), ('pe', 0.05527638190954745), ('dm', 0.055276381909547256), ('appet', 0.05025125628140756), ('su', 0.03517587939698419), ('ane', 0.02010050251256293), ('ba', 0.010050251256281478), ('pcc', 0.010050251256281187), ('cad', -1.8041124150158794e-16), ('pc', -0.025125628140703182), ('rbc', -0.03517587939698506), ('wbcc', -0.10236750764129927), ('pot', -0.11809045226130657), ('sc', -0.13657327734563296), ('bgr', -0.20777356168598093), ('bu', -0.2545822638371713), ('age', -0.4751027866605756), ('bp', -0.8140703517587933)]\n"
     ]
    }
   ],
   "source": [
    "#Feature analysis for Cluster marked 0\n",
    "first_features_in_centroid_1 = centroids[0][sorted_centroid_features_idx[0]]\n",
    "print(list(\n",
    "        zip(\n",
    "            [features[feature] for feature in sorted_centroid_features_idx[0]], \n",
    "            first_features_in_centroid_1\n",
    "        )\n",
    "    ))"
   ]
  },
  {
   "cell_type": "markdown",
   "metadata": {},
   "source": [
    "#### Conclusion: Cluster labelled \"0\" identifies with high valued features like red blood cells, hemoglobin, packed cell volume, sodium."
   ]
  },
  {
   "cell_type": "code",
   "execution_count": 34,
   "metadata": {},
   "outputs": [
    {
     "name": "stdout",
     "output_type": "stream",
     "text": [
      "[('sc', 5.163731245923025), ('bu', 3.150393970537856), ('al', 0.9285714285714288), ('htn', 0.7619047619047621), ('dm', 0.6666666666666667), ('su', 0.6190476190476192), ('ane', 0.5952380952380952), ('bp', 0.5000000000000003), ('pe', 0.5000000000000002), ('bgr', 0.4494655004859086), ('appet', 0.4047619047619047), ('pot', 0.40178571428571386), ('cad', 0.2142857142857143), ('pcc', 0.16666666666666669), ('wbcc', 0.13156602847324492), ('ba', 0.11904761904761904), ('age', 0.015151515151515138), ('rbc', -0.3333333333333335), ('pc', -0.4523809523809525), ('sg', -0.9761904761904636), ('hemo', -1.0146031746031743), ('sod', -1.186507936507936), ('pcv', -1.2047619047619045), ('rbcc', -1.8769841269841283)]\n"
     ]
    }
   ],
   "source": [
    "#Feature analysis for Cluster marked 1\n",
    "first_features_in_centroid_2 = centroids[1][sorted_centroid_features_idx[1]]\n",
    "print(list(\n",
    "        zip(\n",
    "            [features[feature] for feature in sorted_centroid_features_idx[1]], \n",
    "            first_features_in_centroid_2\n",
    "        )\n",
    "    ))"
   ]
  },
  {
   "cell_type": "markdown",
   "metadata": {},
   "source": [
    "#### Conclusion: Cluster labelled \"1\" identifies with high valued features like serum creatinine, blood urea, albumin, hypertension,diabetes melitus, sugar,anemia, blood pressure, pedal adema, blood glucose random, appetite,potassium,coronary artery disease."
   ]
  },
  {
   "cell_type": "code",
   "execution_count": 35,
   "metadata": {},
   "outputs": [
    {
     "name": "stdout",
     "output_type": "stream",
     "text": [
      "[('pot', 48.250000000000014), ('sc', 9.589041095890408), ('bu', 6.805755395683453), ('su', 3.0), ('bgr', 1.6734693877551021), ('sod', 1.6666666666666667), ('al', 1.25), ('bp', 0.5), ('pe', 0.5), ('ane', 0.5), ('htn', 0.5), ('dm', 0.5), ('age', 0.20454545454545456), ('ba', 0.0), ('pcc', 0.0), ('rbc', 0.0), ('cad', 0.0), ('appet', 0.0), ('hemo', -0.6066666666666666), ('wbcc', -0.6185567010309279), ('pcv', -0.85), ('pc', -1.0), ('sg', -1.4999999999999778), ('rbcc', -1.5833333333333341)]\n"
     ]
    }
   ],
   "source": [
    "#Feature analysis for Cluster marked 2\n",
    "first_features_in_centroid_3 = centroids[2][sorted_centroid_features_idx[2]]\n",
    "print(list(\n",
    "        zip(\n",
    "            [features[feature] for feature in sorted_centroid_features_idx[2]], \n",
    "            first_features_in_centroid_3\n",
    "        )\n",
    "    ))"
   ]
  },
  {
   "cell_type": "markdown",
   "metadata": {},
   "source": [
    "#### Conclusion: Cluster labelled \"2\" identifies with high valued features like potassium, serum creatinine, blood urea,sugar, blood glucose random,sodium, albumin,blood pressure,pedal adema, anemia,hypertension,diabetes mellitus, age."
   ]
  },
  {
   "cell_type": "code",
   "execution_count": 36,
   "metadata": {},
   "outputs": [
    {
     "name": "stdout",
     "output_type": "stream",
     "text": [
      "[('bgr', 1.384068466096116), ('su', 0.7677419354838697), ('al', 0.7225806451612901), ('htn', 0.6451612903225808), ('sc', 0.6227132125497126), ('dm', 0.6193548387096768), ('bu', 0.4538779299141332), ('wbcc', 0.42620552045227816), ('appet', 0.3483870967741943), ('pe', 0.27741935483870994), ('pcc', 0.2129032258064512), ('age', 0.19442815249266862), ('ane', 0.19354838709677405), ('cad', 0.1548387096774193), ('ba', 0.09677419354838712), ('bp', 0.025806451612903902), ('pot', -0.008064516129032612), ('rbc', -0.16774193548387106), ('sod', -0.30752688172042986), ('pc', -0.32258064516129037), ('hemo', -0.41427956989247294), ('pcv', -0.49677419354838726), ('rbcc', -0.6784946236559138), ('sg', -1.1354838709677262)]\n"
     ]
    }
   ],
   "source": [
    "#Feature analysis for Cluster marked 3\n",
    "first_features_in_centroid_4 = centroids[3][sorted_centroid_features_idx[3]]\n",
    "print(list(\n",
    "        zip(\n",
    "            [features[feature] for feature in sorted_centroid_features_idx[3]], \n",
    "            first_features_in_centroid_4\n",
    "        )\n",
    "    ))"
   ]
  },
  {
   "cell_type": "markdown",
   "metadata": {},
   "source": [
    "#### Conclusion: Cluster labelled \"3\" identifies with high valued features like blood glucose random,sugar,albumin,hypertension,serum creatinine, diabetes mellitus, blood urea, white blood cells count,appetite."
   ]
  },
  {
   "cell_type": "code",
   "execution_count": 37,
   "metadata": {},
   "outputs": [
    {
     "name": "stdout",
     "output_type": "stream",
     "text": [
      "[('sc', 33.287671232876704), ('bu', 1.7553956834532376), ('htn', 1.0), ('bgr', 0.5102040816326531), ('appet', 0.5), ('cad', 0.5), ('dm', 0.5), ('age', 0.43181818181818177), ('pot', 0.0), ('pe', 0.0), ('ba', 0.0), ('pcc', 0.0), ('pc', 0.0), ('rbc', 0.0), ('su', 0.0), ('al', 0.0), ('sg', 0.0), ('ane', 0.0), ('hemo', -0.23333333333333306), ('wbcc', -0.3711340206185567), ('pcv', -0.4), ('bp', -0.5), ('rbcc', -1.0000000000000004), ('sod', -11.125)]\n"
     ]
    }
   ],
   "source": [
    "#Feature analysis for Cluster marked 4\n",
    "first_features_in_centroid_5 = centroids[4][sorted_centroid_features_idx[4]]\n",
    "print(list(\n",
    "        zip(\n",
    "            [features[feature] for feature in sorted_centroid_features_idx[4]], \n",
    "            first_features_in_centroid_5\n",
    "        )\n",
    "    ))"
   ]
  },
  {
   "cell_type": "markdown",
   "metadata": {},
   "source": [
    "#### Conclusion: Cluster labelled \"4\" identifies with high valued features like serum creatinine, blood urea,hypertension, blood glucose random,appetite, coronary artery disease,diabetes and age."
   ]
  },
  {
   "cell_type": "code",
   "execution_count": null,
   "metadata": {},
   "outputs": [],
   "source": []
  }
 ],
 "metadata": {
  "kernelspec": {
   "display_name": "Python 3",
   "language": "python",
   "name": "python3"
  },
  "language_info": {
   "codemirror_mode": {
    "name": "ipython",
    "version": 3
   },
   "file_extension": ".py",
   "mimetype": "text/x-python",
   "name": "python",
   "nbconvert_exporter": "python",
   "pygments_lexer": "ipython3",
   "version": "3.8.3"
  }
 },
 "nbformat": 4,
 "nbformat_minor": 4
}
